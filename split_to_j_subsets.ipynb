{
 "cells": [
  {
   "cell_type": "code",
   "execution_count": 1,
   "metadata": {},
   "outputs": [],
   "source": [
    "import numpy as np\n",
    "import progressbar"
   ]
  },
  {
   "cell_type": "code",
   "execution_count": 2,
   "metadata": {},
   "outputs": [],
   "source": [
    "def split_to_segments(samples, num_segments):\n",
    "    num_samples_per_segment = samples.size//num_segments\n",
    "    new_samples = np.split(samples[:num_segments*num_samples_per_segment], num_segments)\n",
    "    new_samples[-1] = np.vstack([new_samples[-1], samples[num_segments*num_samples_per_segment:]])\n",
    "    return new_samples"
   ]
  },
  {
   "cell_type": "code",
   "execution_count": 3,
   "metadata": {},
   "outputs": [],
   "source": [
    "def test_samples_after_pooling(samples, num_segments):\n",
    "    if np.all(samples==False) or samples.size == 1:\n",
    "        return 1\n",
    "    else:\n",
    "        segments = split_to_segments(samples, num_segments)\n",
    "        return np.sum([test_samples_after_pooling(segment, num_segments)\n",
    "                       for segment in segments]) + 1"
   ]
  },
  {
   "cell_type": "code",
   "execution_count": 4,
   "metadata": {},
   "outputs": [],
   "source": [
    "def probability_of_sample_pattern(samples, infection_probability):\n",
    "    num_positives = np.sum(samples)\n",
    "    num_negatives = samples.size - num_positives\n",
    "    return np.power(infection_probability, num_negatives) + np.power(1 - num_negatives, num_positives)"
   ]
  },
  {
   "cell_type": "code",
   "execution_count": 5,
   "metadata": {},
   "outputs": [],
   "source": [
    "def generate_samples(population_size, infection_probability):\n",
    "    samples = np.asarray([np.random.choice([True, False], 1, p=[infection_probability, 1-infection_probability])\n",
    "               for i in range(population_size)])\n",
    "    return samples"
   ]
  },
  {
   "cell_type": "code",
   "execution_count": 8,
   "metadata": {},
   "outputs": [],
   "source": [
    "def monte_carlo_simulation(population_size, num_iterations, infection_probability, num_segments):\n",
    "    average_num_tests = 0\n",
    "    for i in range(num_iterations):\n",
    "        samples = generate_samples(population_size, infection_probability)\n",
    "        global_iter = 0\n",
    "        num_tests = test_samples_after_pooling(samples, num_segments)\n",
    "        average_num_tests += num_tests/population_size/num_iterations\n",
    "    return average_num_tests"
   ]
  },
  {
   "cell_type": "code",
   "execution_count": 15,
   "metadata": {},
   "outputs": [
    {
     "data": {
      "text/plain": [
       "0.6471"
      ]
     },
     "execution_count": 15,
     "metadata": {},
     "output_type": "execute_result"
    }
   ],
   "source": [
    "total_population = 10000\n",
    "num_segments = 100\n",
    "infection_probability = 0.01\n",
    "monte_carlo_simulation(total_population, 10, infection_probability, num_segments)"
   ]
  }
 ],
 "metadata": {
  "kernelspec": {
   "display_name": "Python 3",
   "language": "python",
   "name": "python3"
  },
  "language_info": {
   "codemirror_mode": {
    "name": "ipython",
    "version": 3
   },
   "file_extension": ".py",
   "mimetype": "text/x-python",
   "name": "python",
   "nbconvert_exporter": "python",
   "pygments_lexer": "ipython3",
   "version": "3.7.5"
  }
 },
 "nbformat": 4,
 "nbformat_minor": 2
}
