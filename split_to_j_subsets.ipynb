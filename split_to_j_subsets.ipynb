{
 "cells": [
  {
   "cell_type": "code",
   "execution_count": 30,
   "metadata": {},
   "outputs": [],
   "source": [
    "import numpy as np\n",
    "import progressbar"
   ]
  },
  {
   "cell_type": "code",
   "execution_count": 31,
   "metadata": {},
   "outputs": [],
   "source": [
    "def split_to_segments(samples, num_segments):\n",
    "    \"\"\"\n",
    "    Splits an incoming data to a set of segments\n",
    "    :param samples: incoming samples\n",
    "    :param num_segments: number of segments to be divided into\n",
    "    :returns an object array for split up segments    \n",
    "    \"\"\"\n",
    "    num_samples_per_segment = samples.size//num_segments\n",
    "    new_samples = np.split(samples[:num_segments*num_samples_per_segment], num_segments)\n",
    "    new_samples[-1] = np.vstack([new_samples[-1], samples[num_segments*num_samples_per_segment:]])\n",
    "    return new_samples"
   ]
  },
  {
   "cell_type": "code",
   "execution_count": 32,
   "metadata": {},
   "outputs": [],
   "source": [
    "def test_samples_after_pooling(samples, num_segments):\n",
    "    \"\"\"\n",
    "    Tests samples     \n",
    "    :param samples: incoming samples\n",
    "    :param num_segments: number of segments to be divided into for testing\n",
    "    :returns total number fo tests needed    \n",
    "    \"\"\"\n",
    "    if np.all(samples==False) or samples.size == 1:\n",
    "        return 1\n",
    "    else:\n",
    "        segments = split_to_segments(samples, num_segments)\n",
    "        return np.sum([test_samples_after_pooling(segment, num_segments)\n",
    "                       for segment in segments]) + 1"
   ]
  },
  {
   "cell_type": "code",
   "execution_count": 42,
   "metadata": {},
   "outputs": [],
   "source": [
    "def generate_samples(population_size, infection_probability, sort_data):\n",
    "    \"\"\"\n",
    "    generates samples based on infection probablity for each sample. also sorts the data if sort_data is true\n",
    "    \"\"\"\n",
    "    I = np.argsort(infection_probability)\n",
    "    samples = np.asarray([np.random.choice([True, False], 1, p=[infection_probability[i], \n",
    "                                                                1-infection_probability[i]])\n",
    "                           for i in range(population_size)])\n",
    "    if sort_data:\n",
    "        return samples[I]\n",
    "    else:\n",
    "        return samples"
   ]
  },
  {
   "cell_type": "code",
   "execution_count": 44,
   "metadata": {},
   "outputs": [],
   "source": [
    "def monte_carlo_simulation(population_size, num_iterations, infection_probability, num_segments, \n",
    "                           pool_sample_probabilities=False):\n",
    "    \"\"\"\n",
    "    Carries out a monte carlo simulation\n",
    "    \"\"\"\n",
    "    if pool_sample_probabilities is True:\n",
    "        sample_probabilities = np.random.random(population_size)*infection_probability*2\n",
    "    else:\n",
    "        sample_probabilities = np.ones(population_size)*infection_probability\n",
    "    average_num_tests = 0\n",
    "    for i in range(num_iterations):\n",
    "        samples = generate_samples(population_size, sample_probabilities, pool_sample_probabilities)\n",
    "        num_tests = test_samples_after_pooling(samples, num_segments)\n",
    "        average_num_tests += num_tests/population_size/num_iterations\n",
    "    return average_num_tests"
   ]
  },
  {
   "cell_type": "code",
   "execution_count": null,
   "metadata": {},
   "outputs": [],
   "source": [
    "total_population = 10000\n",
    "num_segments = 2\n",
    "infection_probability = 0.03\n",
    "print('If we pool by sorting: ' + \n",
    "      str(monte_carlo_simulation(total_population, 100, infection_probability, num_segments, True)))\n",
    "print('If we dont pool by sorting: ' + \n",
    "      str(monte_carlo_simulation(total_population, 100, infection_probability, num_segments, False)))"
   ]
  }
 ],
 "metadata": {
  "kernelspec": {
   "display_name": "Python 3",
   "language": "python",
   "name": "python3"
  },
  "language_info": {
   "codemirror_mode": {
    "name": "ipython",
    "version": 3
   },
   "file_extension": ".py",
   "mimetype": "text/x-python",
   "name": "python",
   "nbconvert_exporter": "python",
   "pygments_lexer": "ipython3",
   "version": "3.7.5"
  }
 },
 "nbformat": 4,
 "nbformat_minor": 2
}
